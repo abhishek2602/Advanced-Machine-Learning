{
  "nbformat": 4,
  "nbformat_minor": 0,
  "metadata": {
    "colab": {
      "name": "LDA_Concept.ipynb",
      "version": "0.3.2",
      "provenance": [],
      "collapsed_sections": [],
      "include_colab_link": true
    },
    "kernelspec": {
      "name": "python3",
      "display_name": "Python 3"
    }
  },
  "cells": [
    {
      "cell_type": "markdown",
      "metadata": {
        "id": "view-in-github",
        "colab_type": "text"
      },
      "source": [
        "<a href=\"https://colab.research.google.com/github/abhishek2602/Advanced-Machine-Learning/blob/master/LDA_Concept.ipynb\" target=\"_parent\"><img src=\"https://colab.research.google.com/assets/colab-badge.svg\" alt=\"Open In Colab\"/></a>"
      ]
    },
    {
      "metadata": {
        "id": "axu-C1aqvUUZ",
        "colab_type": "text"
      },
      "cell_type": "markdown",
      "source": [
        "# Linear Discriminant Analysis"
      ]
    },
    {
      "metadata": {
        "id": "Bta1s7UEy7pk",
        "colab_type": "text"
      },
      "cell_type": "markdown",
      "source": [
        "## PCA & LDA on IRIS Data"
      ]
    },
    {
      "metadata": {
        "id": "jAMF8a6wvG-g",
        "colab_type": "code",
        "colab": {}
      },
      "cell_type": "code",
      "source": [
        "import matplotlib.pyplot as plt\n",
        "import numpy as np"
      ],
      "execution_count": 0,
      "outputs": []
    },
    {
      "metadata": {
        "id": "SYEevtsWvhNE",
        "colab_type": "code",
        "colab": {}
      },
      "cell_type": "code",
      "source": [
        "from sklearn import datasets\n",
        "from sklearn.decomposition import PCA\n",
        "from sklearn.discriminant_analysis import LinearDiscriminantAnalysis"
      ],
      "execution_count": 0,
      "outputs": []
    },
    {
      "metadata": {
        "id": "HIy9axwNv7kN",
        "colab_type": "code",
        "colab": {}
      },
      "cell_type": "code",
      "source": [
        "# Loading the dataset\n",
        "iris = datasets.load_iris()\n",
        "\n",
        "X = iris.data\n",
        "y = iris.target\n",
        "target_names = iris.target_names"
      ],
      "execution_count": 0,
      "outputs": []
    },
    {
      "metadata": {
        "id": "snIm4fNJwMij",
        "colab_type": "code",
        "colab": {}
      },
      "cell_type": "code",
      "source": [
        "pca = PCA(n_components = 2)\n",
        "X_r = pca.fit(X).transform(X)\n",
        "\n",
        "lda = LinearDiscriminantAnalysis(n_components = 2)\n",
        "X_r2 = lda.fit(X, y).transform(X) #Since LDA is a supervised learning algorithm, the target column needs to be specified\n"
      ],
      "execution_count": 0,
      "outputs": []
    },
    {
      "metadata": {
        "id": "uPnzHsj3wpuq",
        "colab_type": "code",
        "colab": {
          "base_uri": "https://localhost:8080/",
          "height": 34
        },
        "outputId": "cebd35fc-229d-4aa7-9d0f-cd12efd56a32"
      },
      "cell_type": "code",
      "source": [
        "# Percentage of variance explained for each components\n",
        "print('Explained variance ration (first two components): %s' %str(pca.explained_variance_ratio_))"
      ],
      "execution_count": 5,
      "outputs": [
        {
          "output_type": "stream",
          "text": [
            "Explained variance ration (first two components): [0.92461872 0.05306648]\n"
          ],
          "name": "stdout"
        }
      ]
    },
    {
      "metadata": {
        "id": "fc8QfQHUw5zn",
        "colab_type": "code",
        "colab": {
          "base_uri": "https://localhost:8080/",
          "height": 707
        },
        "outputId": "8bf371c1-d139-4b65-d46f-2e61874c6cfa"
      },
      "cell_type": "code",
      "source": [
        "# Plotting the scatter plots based on PCA and LDA analysis on the IRIS dataset\n",
        "plt.figure()\n",
        "colors = ['navy', 'turquoise', 'darkorange']\n",
        "lw = 2\n",
        "\n",
        "for color, i, target_name in zip(colors, [0, 1, 2], target_names):\n",
        "  plt.scatter(X_r[y == i, 0], X_r[y == i, 1], color = color, alpha = 0.8, lw = lw, label = target_name)\n",
        "  \n",
        "plt.legend(loc = 'best', shadow = False, scatterpoints = 1)\n",
        "plt.title('PCA of IRIS dataset')\n",
        "\n",
        "plt.figure()\n",
        "for color, i, target_name in zip(colors, [0, 1, 2], target_names):\n",
        "  plt.scatter(X_r2[y == i, 0], X_r2[y == i, 1], color = color, alpha = 0.8, lw = lw, label = target_name)\n",
        "  \n",
        "plt.legend(loc = 'best', shadow = False, scatterpoints = 1)\n",
        "plt.title('LDA of IRIS dataset')\n",
        "\n",
        "plt.show()"
      ],
      "execution_count": 6,
      "outputs": [
        {
          "output_type": "display_data",
          "data": {
            "image/png": "[encoded data removed]",
            "text/plain": [
              "<Figure size 576x396 with 1 Axes>"
            ]
          },
          "metadata": {
            "tags": []
          }
        },
        {
          "output_type": "display_data",
          "data": {
            "image/png": "[encoded data removed]",
            "text/plain": [
              "<Figure size 576x396 with 1 Axes>"
            ]
          },
          "metadata": {
            "tags": []
          }
        }
      ]
    },
    {
      "metadata": {
        "id": "uhmXTlXEy2xe",
        "colab_type": "text"
      },
      "cell_type": "markdown",
      "source": [
        "## LDA on Wine Data"
      ]
    },
    {
      "metadata": {
        "id": "trySyQ3gyHiC",
        "colab_type": "code",
        "colab": {}
      },
      "cell_type": "code",
      "source": [
        "import pandas as pd\n",
        "\n",
        "# Loading data from the UCI Machine Learning Repo\n",
        "df_wine = pd.read_csv('https://archive.ics.uci.edu/ml/'\n",
        "                      'machine-learning-databases/wine/wine.data',\n",
        "                      header = None)\n",
        "\n",
        "# Defining the Column names\n",
        "df_wine.columns = ['Class label', 'Alcohol', 'Malic acid', 'Ash',\n",
        "                   'Alcalinity of ash', 'Magnesium', 'Total phenols',\n",
        "                   'Flavanoids', 'Nonflavanoid phenols', 'Proanthocyanins',\n",
        "                   'Color intensity', 'Hue',\n",
        "                   'OD280/OD315 of diluted wines', 'Proline']"
      ],
      "execution_count": 0,
      "outputs": []
    },
    {
      "metadata": {
        "id": "0rXY6qsizYOd",
        "colab_type": "code",
        "colab": {
          "base_uri": "https://localhost:8080/",
          "height": 34
        },
        "outputId": "dc939c87-0b4d-4317-f866-0aaa7766f85f"
      },
      "cell_type": "code",
      "source": [
        "print('Class labels', np.unique(df_wine['Class label']))"
      ],
      "execution_count": 8,
      "outputs": [
        {
          "output_type": "stream",
          "text": [
            "Class labels [1 2 3]\n"
          ],
          "name": "stdout"
        }
      ]
    },
    {
      "metadata": {
        "id": "CGJLzx2KzfRU",
        "colab_type": "code",
        "colab": {
          "base_uri": "https://localhost:8080/",
          "height": 258
        },
        "outputId": "d4b8da5f-28a0-4428-e61b-17bee6877758"
      },
      "cell_type": "code",
      "source": [
        "df_wine.head()"
      ],
      "execution_count": 9,
      "outputs": [
        {
          "output_type": "execute_result",
          "data": {
            "text/html": [
              "<div>\n",
              "<style scoped>\n",
              "    .dataframe tbody tr th:only-of-type {\n",
              "        vertical-align: middle;\n",
              "    }\n",
              "\n",
              "    .dataframe tbody tr th {\n",
              "        vertical-align: top;\n",
              "    }\n",
              "\n",
              "    .dataframe thead th {\n",
              "        text-align: right;\n",
              "    }\n",
              "</style>\n",
              "<table border=\"1\" class=\"dataframe\">\n",
              "  <thead>\n",
              "    <tr style=\"text-align: right;\">\n",
              "      <th></th>\n",
              "      <th>Class label</th>\n",
              "      <th>Alcohol</th>\n",
              "      <th>Malic acid</th>\n",
              "      <th>Ash</th>\n",
              "      <th>Alcalinity of ash</th>\n",
              "      <th>Magnesium</th>\n",
              "      <th>Total phenols</th>\n",
              "      <th>Flavanoids</th>\n",
              "      <th>Nonflavanoid phenols</th>\n",
              "      <th>Proanthocyanins</th>\n",
              "      <th>Color intensity</th>\n",
              "      <th>Hue</th>\n",
              "      <th>OD280/OD315 of diluted wines</th>\n",
              "      <th>Proline</th>\n",
              "    </tr>\n",
              "  </thead>\n",
              "  <tbody>\n",
              "    <tr>\n",
              "      <th>0</th>\n",
              "      <td>1</td>\n",
              "      <td>14.23</td>\n",
              "      <td>1.71</td>\n",
              "      <td>2.43</td>\n",
              "      <td>15.6</td>\n",
              "      <td>127</td>\n",
              "      <td>2.80</td>\n",
              "      <td>3.06</td>\n",
              "      <td>0.28</td>\n",
              "      <td>2.29</td>\n",
              "      <td>5.64</td>\n",
              "      <td>1.04</td>\n",
              "      <td>3.92</td>\n",
              "      <td>1065</td>\n",
              "    </tr>\n",
              "    <tr>\n",
              "      <th>1</th>\n",
              "      <td>1</td>\n",
              "      <td>13.20</td>\n",
              "      <td>1.78</td>\n",
              "      <td>2.14</td>\n",
              "      <td>11.2</td>\n",
              "      <td>100</td>\n",
              "      <td>2.65</td>\n",
              "      <td>2.76</td>\n",
              "      <td>0.26</td>\n",
              "      <td>1.28</td>\n",
              "      <td>4.38</td>\n",
              "      <td>1.05</td>\n",
              "      <td>3.40</td>\n",
              "      <td>1050</td>\n",
              "    </tr>\n",
              "    <tr>\n",
              "      <th>2</th>\n",
              "      <td>1</td>\n",
              "      <td>13.16</td>\n",
              "      <td>2.36</td>\n",
              "      <td>2.67</td>\n",
              "      <td>18.6</td>\n",
              "      <td>101</td>\n",
              "      <td>2.80</td>\n",
              "      <td>3.24</td>\n",
              "      <td>0.30</td>\n",
              "      <td>2.81</td>\n",
              "      <td>5.68</td>\n",
              "      <td>1.03</td>\n",
              "      <td>3.17</td>\n",
              "      <td>1185</td>\n",
              "    </tr>\n",
              "    <tr>\n",
              "      <th>3</th>\n",
              "      <td>1</td>\n",
              "      <td>14.37</td>\n",
              "      <td>1.95</td>\n",
              "      <td>2.50</td>\n",
              "      <td>16.8</td>\n",
              "      <td>113</td>\n",
              "      <td>3.85</td>\n",
              "      <td>3.49</td>\n",
              "      <td>0.24</td>\n",
              "      <td>2.18</td>\n",
              "      <td>7.80</td>\n",
              "      <td>0.86</td>\n",
              "      <td>3.45</td>\n",
              "      <td>1480</td>\n",
              "    </tr>\n",
              "    <tr>\n",
              "      <th>4</th>\n",
              "      <td>1</td>\n",
              "      <td>13.24</td>\n",
              "      <td>2.59</td>\n",
              "      <td>2.87</td>\n",
              "      <td>21.0</td>\n",
              "      <td>118</td>\n",
              "      <td>2.80</td>\n",
              "      <td>2.69</td>\n",
              "      <td>0.39</td>\n",
              "      <td>1.82</td>\n",
              "      <td>4.32</td>\n",
              "      <td>1.04</td>\n",
              "      <td>2.93</td>\n",
              "      <td>735</td>\n",
              "    </tr>\n",
              "  </tbody>\n",
              "</table>\n",
              "</div>"
            ],
            "text/plain": [
              "   Class label  Alcohol  Malic acid   Ash  Alcalinity of ash  Magnesium  \\\n",
              "0            1    14.23        1.71  2.43               15.6        127   \n",
              "1            1    13.20        1.78  2.14               11.2        100   \n",
              "2            1    13.16        2.36  2.67               18.6        101   \n",
              "3            1    14.37        1.95  2.50               16.8        113   \n",
              "4            1    13.24        2.59  2.87               21.0        118   \n",
              "\n",
              "   Total phenols  Flavanoids  Nonflavanoid phenols  Proanthocyanins  \\\n",
              "0           2.80        3.06                  0.28             2.29   \n",
              "1           2.65        2.76                  0.26             1.28   \n",
              "2           2.80        3.24                  0.30             2.81   \n",
              "3           3.85        3.49                  0.24             2.18   \n",
              "4           2.80        2.69                  0.39             1.82   \n",
              "\n",
              "   Color intensity   Hue  OD280/OD315 of diluted wines  Proline  \n",
              "0             5.64  1.04                          3.92     1065  \n",
              "1             4.38  1.05                          3.40     1050  \n",
              "2             5.68  1.03                          3.17     1185  \n",
              "3             7.80  0.86                          3.45     1480  \n",
              "4             4.32  1.04                          2.93      735  "
            ]
          },
          "metadata": {
            "tags": []
          },
          "execution_count": 9
        }
      ]
    },
    {
      "metadata": {
        "id": "tW9puHiFzhwL",
        "colab_type": "code",
        "colab": {}
      },
      "cell_type": "code",
      "source": [
        "# Splitting the data and Standardising\n",
        "from sklearn.model_selection import train_test_split\n",
        "from sklearn.preprocessing import StandardScaler\n",
        "\n",
        "X, y = df_wine.iloc[:, 1:].values, df_wine.iloc[:, 0].values\n",
        "\n",
        "X_train, X_test, y_train, y_test = train_test_split(X, y, test_size = 0.3, random_state = 42)\n",
        "\n",
        "sc = StandardScaler()\n",
        "X_train_std = sc.fit_transform(X_train)\n",
        "X_test_std = sc.transform(X_test)"
      ],
      "execution_count": 0,
      "outputs": []
    },
    {
      "metadata": {
        "id": "SYp8LcicBThM",
        "colab_type": "code",
        "colab": {
          "base_uri": "https://localhost:8080/",
          "height": 380
        },
        "outputId": "1329e71b-0ff9-4a25-8869-a06bbc50a5bc"
      },
      "cell_type": "code",
      "source": [
        "from math import floor, ceil\n",
        "\n",
        "# the order of the colors for each histogram\n",
        "colors = ('red', 'green', 'blue')\n",
        "\n",
        "# bin width of the histogram in steps of 0.15\n",
        "bins = np.arange(floor(min(X[:, 0])), ceil(max(X[:, 0])), 0.15)\n",
        "\n",
        "# max count for a particular bin for all classed combined\n",
        "max_bin = max(np.histogram(X[:, 0], bins = bins)[0])\n",
        "\n",
        "for label, color in zip(range(1, 4), colors):\n",
        "  mean = np.mean(X[:, 0][y == label]) # class sample mean\n",
        "  stdev = np.std(X[:, 0][y == label]) # class standard deviation\n",
        "  plt.hist(X[:, 0][y == label], bins = bins, alpha = 0.3, #opacity level\n",
        "      label = 'class {} ($\\mu = {:2f}$, $\\sigma = {:2f}$)'.format(label, mean, stdev), color = color)\n",
        "\n",
        "plt.ylim([0, max_bin*1.3])\n",
        "plt.title('Wine data set - Distribution of alocohol contents')\n",
        "plt.xlabel('alcohol by volume', fontsize=14)\n",
        "plt.ylabel('count', fontsize=14)\n",
        "plt.legend(loc='upper right')\n",
        "\n",
        "plt.show()"
      ],
      "execution_count": 11,
      "outputs": [
        {
          "output_type": "display_data",
          "data": {
            "image/png": "[encoded data removed]",
            "text/plain": [
              "<Figure size 576x396 with 1 Axes>"
            ]
          },
          "metadata": {
            "tags": []
          }
        }
      ]
    },
    {
      "metadata": {
        "id": "Za1qhUzIC9vd",
        "colab_type": "code",
        "colab": {
          "base_uri": "https://localhost:8080/",
          "height": 380
        },
        "outputId": "262644a8-67c0-422a-9e0b-803b1ff79d77"
      },
      "cell_type": "code",
      "source": [
        "from math import floor, ceil \n",
        "\n",
        "# the order of the colors for each histogram\n",
        "colors = ('red', 'green', 'blue')\n",
        "\n",
        "# bin width of the histogram in steps of 0.12\n",
        "bins = np.arange(floor(min(X[:,1])), ceil(max(X[:,1])), 0.12)\n",
        "\n",
        "# max count for a particular bin for all classes combined\n",
        "max_bin = max(np.histogram(X[:,1], bins=bins)[0])\n",
        "\n",
        "for label,color in zip(range(1,4), colors):\n",
        "    mean = np.mean(X[:,1][y == label]) # class sample mean\n",
        "    stdev = np.std(X[:,1][y == label]) # class standard deviation\n",
        "    plt.hist(X[:,1][y == label], bins=bins, alpha=0.3, # opacity level\n",
        "             label='class {} ($\\mu={:.2f}$, $\\sigma={:.2f}$)'.format(label, mean, stdev),\n",
        "             color=color)\n",
        "\n",
        "plt.ylim([0, max_bin])\n",
        "plt.title('Wine data set - Distribution of Malic acid')\n",
        "plt.xlabel('Malic acid by volume', fontsize=14)\n",
        "plt.ylabel('count', fontsize=14)\n",
        "plt.legend(loc='upper right')\n",
        "\n",
        "plt.show()"
      ],
      "execution_count": 12,
      "outputs": [
        {
          "output_type": "display_data",
          "data": {
            "image/png": "[encoded data removed]",
            "text/plain": [
              "<Figure size 576x396 with 1 Axes>"
            ]
          },
          "metadata": {
            "tags": []
          }
        }
      ]
    },
    {
      "metadata": {
        "id": "pkZiAJPgDJ5l",
        "colab_type": "code",
        "colab": {
          "base_uri": "https://localhost:8080/",
          "height": 170
        },
        "outputId": "d67d633c-e28e-4a92-f64a-0563d4d494bd"
      },
      "cell_type": "code",
      "source": [
        "np.set_printoptions(precision=4)\n",
        "\n",
        "mean_vecs = []\n",
        "for label in range(1, 4):\n",
        "    mean_vecs.append(np.mean(X_train_std[y_train == label], axis=0))\n",
        "    print('MV %s: %s\\n' % (label, mean_vecs[label - 1]))"
      ],
      "execution_count": 13,
      "outputs": [
        {
          "output_type": "stream",
          "text": [
            "MV 1: [ 0.939  -0.3671  0.3042 -0.7939  0.4489  0.8891  0.9656 -0.4912  0.558\n",
            "  0.2169  0.4507  0.7705  1.1707]\n",
            "\n",
            "MV 2: [-0.8597 -0.3294 -0.3959  0.298  -0.3083 -0.0496  0.0614 -0.0301  0.1509\n",
            " -0.867   0.4261  0.2809 -0.6949]\n",
            "\n",
            "MV 3: [ 0.1596  0.9162  0.2243  0.4958 -0.0747 -0.9731 -1.2264  0.6222 -0.8784\n",
            "  1.0198 -1.1568 -1.3195 -0.3554]\n",
            "\n"
          ],
          "name": "stdout"
        }
      ]
    },
    {
      "metadata": {
        "id": "TGtTko9lDNBk",
        "colab_type": "code",
        "colab": {
          "base_uri": "https://localhost:8080/",
          "height": 136
        },
        "outputId": "5b881a0e-0ed7-4b0d-e7ed-1859c7b620b2"
      },
      "cell_type": "code",
      "source": [
        "X_train_std"
      ],
      "execution_count": 14,
      "outputs": [
        {
          "output_type": "execute_result",
          "data": {
            "text/plain": [
              "array([[ 0.6284,  1.0812, -0.6521, ..., -0.6414, -1.0709, -0.5182],\n",
              "       [-0.5409, -0.613 , -1.4275, ...,  0.3465,  1.3308, -0.2151],\n",
              "       [-0.7557, -1.287 , -1.5383, ...,  0.4324, -0.3984,  0.042 ],\n",
              "       ...,\n",
              "       [ 1.6904, -0.4855,  0.0494, ...,  1.0338,  0.5485,  2.6682],\n",
              "       [-0.3261, -0.7952, -0.3937, ...,  0.0029, -0.7415, -0.7983],\n",
              "       [-0.7437,  0.0428,  0.3448, ..., -0.6843,  1.07  , -0.9861]])"
            ]
          },
          "metadata": {
            "tags": []
          },
          "execution_count": 14
        }
      ]
    },
    {
      "metadata": {
        "id": "Y3S_Y5IPDPY8",
        "colab_type": "code",
        "colab": {
          "base_uri": "https://localhost:8080/",
          "height": 34
        },
        "outputId": "87348a2a-4900-45a6-f68c-dff124bfd65c"
      },
      "cell_type": "code",
      "source": [
        "d = 13  # number of features\n",
        "S_W = np.zeros((d, d))\n",
        "for label, mv in zip(range(1, 4), mean_vecs):\n",
        "    class_scatter = np.zeros((d, d))  # scatter matrix for each class\n",
        "    for row in X_train_std[y_train == label]:\n",
        "        row, mv = row.reshape(d, 1), mv.reshape(d, 1)  # make column vectors\n",
        "        class_scatter += (row - mv).dot((row - mv).T)\n",
        "    S_W += class_scatter                          # sum class scatter matrices\n",
        "\n",
        "print('Within-class scatter matrix: %sx%s' % (S_W.shape[0], S_W.shape[1]))"
      ],
      "execution_count": 15,
      "outputs": [
        {
          "output_type": "stream",
          "text": [
            "Within-class scatter matrix: 13x13\n"
          ],
          "name": "stdout"
        }
      ]
    },
    {
      "metadata": {
        "id": "ENNi7aJ6DRXj",
        "colab_type": "code",
        "colab": {
          "base_uri": "https://localhost:8080/",
          "height": 34
        },
        "outputId": "7afa8a46-79b3-47a5-d066-70177940b04f"
      },
      "cell_type": "code",
      "source": [
        "print('Class label distribution: %s' % np.bincount(y_train)[1:])"
      ],
      "execution_count": 16,
      "outputs": [
        {
          "output_type": "stream",
          "text": [
            "Class label distribution: [40 50 34]\n"
          ],
          "name": "stdout"
        }
      ]
    },
    {
      "metadata": {
        "id": "Nxj9acWTDTRU",
        "colab_type": "code",
        "colab": {
          "base_uri": "https://localhost:8080/",
          "height": 34
        },
        "outputId": "47c7b361-080e-4e2f-b1b1-529bf371db1d"
      },
      "cell_type": "code",
      "source": [
        "d = 13  # number of features\n",
        "S_W = np.zeros((d, d))\n",
        "for label, mv in zip(range(1, 4), mean_vecs):\n",
        "    class_scatter = np.cov(X_train_std[y_train == label].T)\n",
        "    S_W += class_scatter\n",
        "print('Scaled within-class scatter matrix: %sx%s' % (S_W.shape[0],\n",
        "                                                     S_W.shape[1]))"
      ],
      "execution_count": 17,
      "outputs": [
        {
          "output_type": "stream",
          "text": [
            "Scaled within-class scatter matrix: 13x13\n"
          ],
          "name": "stdout"
        }
      ]
    },
    {
      "metadata": {
        "id": "0awRba9fDVXb",
        "colab_type": "code",
        "colab": {
          "base_uri": "https://localhost:8080/",
          "height": 34
        },
        "outputId": "d07f7996-3bb2-4c96-f40d-8c55b76034e7"
      },
      "cell_type": "code",
      "source": [
        "mean_overall = np.mean(X_train_std, axis=0)\n",
        "d = 13  # number of features\n",
        "S_B = np.zeros((d, d))\n",
        "for i, mean_vec in enumerate(mean_vecs):\n",
        "    n = X_train[y_train == i + 1, :].shape[0]\n",
        "    mean_vec = mean_vec.reshape(d, 1)  # make column vector\n",
        "    mean_overall = mean_overall.reshape(d, 1)  # make column vector\n",
        "    S_B += n * (mean_vec - mean_overall).dot((mean_vec - mean_overall).T)\n",
        "\n",
        "print('Between-class scatter matrix: %sx%s' % (S_B.shape[0], S_B.shape[1]))"
      ],
      "execution_count": 18,
      "outputs": [
        {
          "output_type": "stream",
          "text": [
            "Between-class scatter matrix: 13x13\n"
          ],
          "name": "stdout"
        }
      ]
    },
    {
      "metadata": {
        "id": "YgXlMCpRDXk7",
        "colab_type": "code",
        "colab": {
          "base_uri": "https://localhost:8080/",
          "height": 34
        },
        "outputId": "23ef366a-7405-489a-e59e-9445e1176563"
      },
      "cell_type": "code",
      "source": [
        "eigen_vals, eigen_vecs = np.linalg.eig(np.linalg.inv(S_W).dot(S_B))\n",
        "eigen_vals.shape, eigen_vecs.shape"
      ],
      "execution_count": 19,
      "outputs": [
        {
          "output_type": "execute_result",
          "data": {
            "text/plain": [
              "((13,), (13, 13))"
            ]
          },
          "metadata": {
            "tags": []
          },
          "execution_count": 19
        }
      ]
    },
    {
      "metadata": {
        "id": "WaQJm2xdDZYK",
        "colab_type": "code",
        "colab": {
          "base_uri": "https://localhost:8080/",
          "height": 136
        },
        "outputId": "d460453a-4449-4680-96e1-9fec011feb4c"
      },
      "cell_type": "code",
      "source": [
        "eigen_vals"
      ],
      "execution_count": 20,
      "outputs": [
        {
          "output_type": "execute_result",
          "data": {
            "text/plain": [
              "array([-2.8422e-14+0.0000e+00j,  1.6127e+02+0.0000e+00j,\n",
              "        3.7293e+02+0.0000e+00j, -5.3414e-14+0.0000e+00j,\n",
              "        2.1007e-14+0.0000e+00j, -2.0538e-14+0.0000e+00j,\n",
              "        5.2793e-15+1.2096e-14j,  5.2793e-15-1.2096e-14j,\n",
              "       -8.4198e-15+1.0998e-14j, -8.4198e-15-1.0998e-14j,\n",
              "        1.0375e-15+3.5993e-15j,  1.0375e-15-3.5993e-15j,\n",
              "       -4.1308e-16+0.0000e+00j])"
            ]
          },
          "metadata": {
            "tags": []
          },
          "execution_count": 20
        }
      ]
    },
    {
      "metadata": {
        "id": "tn9zh6LKDavC",
        "colab_type": "code",
        "colab": {
          "base_uri": "https://localhost:8080/",
          "height": 272
        },
        "outputId": "24355f39-7e58-4d42-9ff2-1ef580f5202a"
      },
      "cell_type": "code",
      "source": [
        "eigen_pairs = [(np.abs(eigen_vals[i]), eigen_vecs[:,i]) for i in range(len(eigen_vals))]\n",
        "eigen_pairs = sorted(eigen_pairs, key=lambda k: k[0], reverse=True)\n",
        "print('Eigenvalues in decreasing order:\\n')\n",
        "for eigen_val in eigen_pairs:\n",
        "    print (eigen_val[0])"
      ],
      "execution_count": 21,
      "outputs": [
        {
          "output_type": "stream",
          "text": [
            "Eigenvalues in decreasing order:\n",
            "\n",
            "372.9269890059842\n",
            "161.27085759687992\n",
            "5.341362963496654e-14\n",
            "2.842170943040401e-14\n",
            "2.1006501003645297e-14\n",
            "2.053779350617852e-14\n",
            "1.3851245870763949e-14\n",
            "1.3851245870763949e-14\n",
            "1.3198204794001044e-14\n",
            "1.3198204794001044e-14\n",
            "3.74582246777781e-15\n",
            "3.74582246777781e-15\n",
            "4.1308280440197533e-16\n"
          ],
          "name": "stdout"
        }
      ]
    },
    {
      "metadata": {
        "id": "ZlUEHxfXDdKD",
        "colab_type": "code",
        "colab": {
          "base_uri": "https://localhost:8080/",
          "height": 361
        },
        "outputId": "d94d84bd-3fcd-4db5-dd59-d606ebd34bba"
      },
      "cell_type": "code",
      "source": [
        "tot = sum(eigen_vals.real)\n",
        "discr = [(i / tot) for i in sorted(eigen_vals.real, reverse=True)]\n",
        "cum_discr = np.cumsum(discr)\n",
        "plt.bar(range(1, 14), discr, alpha=0.5, align='center', label='individual \"discriminability\"')\n",
        "plt.step(range(1, 14), cum_discr, where='mid', label='cumulative \"discriminability\"')\n",
        "plt.ylabel('\"discriminability\" ratio')\n",
        "plt.xlabel('Linear Discriminants')\n",
        "plt.ylim([-0.1, 1.1])\n",
        "plt.legend(loc='best')\n",
        "plt.show()"
      ],
      "execution_count": 22,
      "outputs": [
        {
          "output_type": "display_data",
          "data": {
            "image/png": "[encoded data removed]",
            "text/plain": [
              "<Figure size 576x396 with 1 Axes>"
            ]
          },
          "metadata": {
            "tags": []
          }
        }
      ]
    },
    {
      "metadata": {
        "id": "4IeyuNdADitY",
        "colab_type": "code",
        "colab": {
          "base_uri": "https://localhost:8080/",
          "height": 238
        },
        "outputId": "293cd0de-c473-42ed-fce3-4c17e1e91ed0"
      },
      "cell_type": "code",
      "source": [
        "w = np.hstack((eigen_pairs[0][1][:, np.newaxis].real, \n",
        "               eigen_pairs[1][1][:, np.newaxis].real))\n",
        "w"
      ],
      "execution_count": 23,
      "outputs": [
        {
          "output_type": "execute_result",
          "data": {
            "text/plain": [
              "array([[ 0.1089, -0.4297],\n",
              "       [-0.0698, -0.1402],\n",
              "       [ 0.0446, -0.4425],\n",
              "       [-0.2257,  0.3952],\n",
              "       [-0.0079, -0.0154],\n",
              "       [-0.1842, -0.0975],\n",
              "       [ 0.724 ,  0.2255],\n",
              "       [ 0.064 ,  0.0916],\n",
              "       [-0.0259,  0.2006],\n",
              "       [-0.3103, -0.2719],\n",
              "       [ 0.0863,  0.2096],\n",
              "       [ 0.3851,  0.0982],\n",
              "       [ 0.3397, -0.4549]])"
            ]
          },
          "metadata": {
            "tags": []
          },
          "execution_count": 23
        }
      ]
    },
    {
      "metadata": {
        "id": "33KPHiQIDpf5",
        "colab_type": "code",
        "colab": {}
      },
      "cell_type": "code",
      "source": [
        "X_train_lda = X_train_std.dot(w)"
      ],
      "execution_count": 0,
      "outputs": []
    },
    {
      "metadata": {
        "id": "VfLPUXtFDsFI",
        "colab_type": "code",
        "colab": {
          "base_uri": "https://localhost:8080/",
          "height": 376
        },
        "outputId": "37f2c069-da51-4431-dd96-14d9d439fe7d"
      },
      "cell_type": "code",
      "source": [
        "from sklearn.discriminant_analysis import LinearDiscriminantAnalysis\n",
        "\n",
        "sklearn_lda = LinearDiscriminantAnalysis(n_components=2)\n",
        "transf_lda = sklearn_lda.fit_transform(X_train, y_train)\n",
        "\n",
        "for label,marker,color in zip(range(1,4),('x', 'o', '^'),('red', 'green', 'blue')):\n",
        "    plt.scatter(x=transf_lda[:,0][y_train == label],\n",
        "                y=transf_lda[:,1][y_train == label],\n",
        "                marker=marker, color=color,\n",
        "                alpha=0.7, label='class {}'.format(label))\n",
        "\n",
        "plt.xlabel('vector 1')\n",
        "plt.ylabel('vector 2')\n",
        "\n",
        "plt.legend(loc='lower right')\n",
        "plt.title('Most significant singular vectors after linear transformation via LDA')\n",
        "\n",
        "plt.show()"
      ],
      "execution_count": 25,
      "outputs": [
        {
          "output_type": "display_data",
          "data": {
            "image/png": "[encoded data removed]",
            "text/plain": [
              "<Figure size 576x396 with 1 Axes>"
            ]
          },
          "metadata": {
            "tags": []
          }
        }
      ]
    },
    {
      "metadata": {
        "id": "YrXmTYKtD46x",
        "colab_type": "text"
      },
      "cell_type": "markdown",
      "source": [
        "## Conclusion\n",
        "### We see that using Linear Discriminant Analysis, we are able to clearly distinguish between three classes of wine."
      ]
    },
    {
      "metadata": {
        "id": "SFf9pWnKDtzA",
        "colab_type": "code",
        "colab": {}
      },
      "cell_type": "code",
      "source": [
        ""
      ],
      "execution_count": 0,
      "outputs": []
    }
  ]
}